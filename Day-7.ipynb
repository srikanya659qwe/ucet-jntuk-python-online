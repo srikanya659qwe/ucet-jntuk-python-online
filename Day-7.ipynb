{
 "cells": [
  {
   "cell_type": "markdown",
   "metadata": {},
   "source": [
    "### Day Objectives:\n",
    "    - Data Stuructures:\n",
    "            - dictionaries\n",
    "            - sets"
   ]
  },
  {
   "cell_type": "markdown",
   "metadata": {},
   "source": [
    "### dictionary:\n",
    "    - it is a collection of different data types\n",
    "    - it is a group of key and value pair(key,value pair)-->item\n",
    "    - in dictionary \"keys\" are unique\n",
    "    - it is represented with curly brackets \"{}\"\n",
    "    - in dict each and every item  is separated with comma(,)\n",
    "    - accessing dict values by using key names.\n",
    "    - it is a mutable(changable)"
   ]
  },
  {
   "cell_type": "markdown",
   "metadata": {},
   "source": [
    "### to create an empty dictionary\n",
    "    - dict_name={}\n",
    "     \n",
    "### to create the dict with values:\n",
    "    - dict_name={key:value,key:value....keyn:valuen}"
   ]
  },
  {
   "cell_type": "code",
   "execution_count": 2,
   "metadata": {},
   "outputs": [
    {
     "name": "stdout",
     "output_type": "stream",
     "text": [
      "<class 'dict'>\n"
     ]
    }
   ],
   "source": [
    "### empty\n",
    "d1={}\n",
    "print(type(d1))"
   ]
  },
  {
   "cell_type": "code",
   "execution_count": 4,
   "metadata": {},
   "outputs": [
    {
     "name": "stdout",
     "output_type": "stream",
     "text": [
      "{'a': 100, 'b': 200, 'c': 300}\n",
      "<class 'dict'>\n"
     ]
    }
   ],
   "source": [
    "### with values\n",
    "d1={'a':100,'b':200,'c':300}\n",
    "print(d1)\n",
    "print(type(d1))"
   ]
  },
  {
   "cell_type": "code",
   "execution_count": 8,
   "metadata": {},
   "outputs": [
    {
     "name": "stdout",
     "output_type": "stream",
     "text": [
      "{1: 100, 2: 200, 3: 300}\n"
     ]
    },
    {
     "data": {
      "text/plain": [
       "dict"
      ]
     },
     "execution_count": 8,
     "metadata": {},
     "output_type": "execute_result"
    }
   ],
   "source": [
    "d1={1:100,2:200,3:300}\n",
    "print(d1)\n",
    "type(d1)"
   ]
  },
  {
   "cell_type": "code",
   "execution_count": 13,
   "metadata": {},
   "outputs": [
    {
     "name": "stdout",
     "output_type": "stream",
     "text": [
      "{'name': 'srikanya', 'rollnumber': 1307654, 'branch': 'CSE', 'CGPA': 8.0}\n",
      "<class 'dict'>\n"
     ]
    }
   ],
   "source": [
    "## different data types\n",
    "d2={'name':'srikanya','rollnumber':1307654,'branch':'CSE','CGPA':8.0}\n",
    "print(d2)\n",
    "print(type(d2))"
   ]
  },
  {
   "cell_type": "code",
   "execution_count": 18,
   "metadata": {},
   "outputs": [
    {
     "name": "stdout",
     "output_type": "stream",
     "text": [
      "1307654\n",
      "CSE\n",
      "8.0\n"
     ]
    }
   ],
   "source": [
    "## accessing the dict values by using key names\n",
    "print(d2['rollnumber'])\n",
    "print(d2['branch'])\n",
    "print(d2['CGPA'])"
   ]
  },
  {
   "cell_type": "code",
   "execution_count": 20,
   "metadata": {},
   "outputs": [
    {
     "name": "stdout",
     "output_type": "stream",
     "text": [
      "['__class__', '__contains__', '__delattr__', '__delitem__', '__dir__', '__doc__', '__eq__', '__format__', '__ge__', '__getattribute__', '__getitem__', '__gt__', '__hash__', '__init__', '__init_subclass__', '__iter__', '__le__', '__len__', '__lt__', '__ne__', '__new__', '__reduce__', '__reduce_ex__', '__repr__', '__setattr__', '__setitem__', '__sizeof__', '__str__', '__subclasshook__', 'clear', 'copy', 'fromkeys', 'get', 'items', 'keys', 'pop', 'popitem', 'setdefault', 'update', 'values']\n"
     ]
    }
   ],
   "source": [
    "#### dict methods\n",
    "print(dir(dict))"
   ]
  },
  {
   "cell_type": "markdown",
   "metadata": {},
   "source": [
    "## keys():\n",
    "    - to get the only key names in the format of list\n",
    "    - dict_name.keys()"
   ]
  },
  {
   "cell_type": "code",
   "execution_count": 22,
   "metadata": {},
   "outputs": [
    {
     "name": "stdout",
     "output_type": "stream",
     "text": [
      "{'name': 'srikanya', 'rollnumber': 1307654, 'branch': 'CSE', 'CGPA': 8.0}\n",
      "dict_keys(['name', 'rollnumber', 'branch', 'CGPA'])\n"
     ]
    }
   ],
   "source": [
    "## keys()\n",
    "print(d2)\n",
    "print(d2.keys())"
   ]
  },
  {
   "cell_type": "markdown",
   "metadata": {},
   "source": [
    "## values():\n",
    "    - to get the dictionary values in the format of list\n",
    "    - dict_name.values()"
   ]
  },
  {
   "cell_type": "code",
   "execution_count": 24,
   "metadata": {},
   "outputs": [
    {
     "name": "stdout",
     "output_type": "stream",
     "text": [
      "{'name': 'srikanya', 'rollnumber': 1307654, 'branch': 'CSE', 'CGPA': 8.0}\n",
      "dict_values(['srikanya', 1307654, 'CSE', 8.0])\n"
     ]
    }
   ],
   "source": [
    "## values()\n",
    "print(d2)\n",
    "print(d2.values())"
   ]
  },
  {
   "cell_type": "markdown",
   "metadata": {},
   "source": [
    "## items():\n",
    "    - to get the dictionary items like(keyname,values) in format of tuple\n",
    "    - dict_name.items()\n",
    "    "
   ]
  },
  {
   "cell_type": "code",
   "execution_count": 26,
   "metadata": {},
   "outputs": [
    {
     "name": "stdout",
     "output_type": "stream",
     "text": [
      "{'name': 'srikanya', 'rollnumber': 1307654, 'branch': 'CSE', 'CGPA': 8.0}\n",
      "dict_items([('name', 'srikanya'), ('rollnumber', 1307654), ('branch', 'CSE'), ('CGPA', 8.0)])\n"
     ]
    }
   ],
   "source": [
    "print(d2)\n",
    "print(d2.items())"
   ]
  },
  {
   "cell_type": "markdown",
   "metadata": {},
   "source": [
    "### get():\n",
    "    - to get the dictionary values based on particular key name\n",
    "    - dict_name.get(key_name)"
   ]
  },
  {
   "cell_type": "code",
   "execution_count": 30,
   "metadata": {},
   "outputs": [
    {
     "name": "stdout",
     "output_type": "stream",
     "text": [
      "{'name': 'srikanya', 'rollnumber': 1307654, 'branch': 'CSE', 'CGPA': 8.0}\n",
      "CSE\n",
      "srikanya\n",
      "8.0\n"
     ]
    }
   ],
   "source": [
    "print(d2)\n",
    "print(d2.get('branch'))\n",
    "print(d2.get('name'))\n",
    "print(d2.get('CGPA'))"
   ]
  },
  {
   "cell_type": "markdown",
   "metadata": {},
   "source": [
    "### setdefault():\n",
    "    - to add the new item to the end of dictionary\n",
    "    - dict_name.sefdefault(keyname,values)"
   ]
  },
  {
   "cell_type": "code",
   "execution_count": 36,
   "metadata": {},
   "outputs": [
    {
     "name": "stdout",
     "output_type": "stream",
     "text": [
      "{'name': 'srikanya', 'rollnumber': 1307654, 'branch': 'CSE', 'CGPA': 8.0, 'section': 'A'}\n",
      "A\n",
      "{'name': 'srikanya', 'rollnumber': 1307654, 'branch': 'CSE', 'CGPA': 8.0, 'section': 'A'}\n"
     ]
    }
   ],
   "source": [
    "print(d2)\n",
    "print(d2.setdefault('section','A'))\n",
    "print(d2)"
   ]
  },
  {
   "cell_type": "markdown",
   "metadata": {},
   "source": [
    "### update():\n",
    "    - to upadte the any existing value in dictionary\n",
    "    - dict_name.update(keyname:value)"
   ]
  },
  {
   "cell_type": "code",
   "execution_count": 39,
   "metadata": {},
   "outputs": [
    {
     "name": "stdout",
     "output_type": "stream",
     "text": [
      "{'name': 'kishore', 'rollnumber': 1307654, 'branch': 'CSE', 'CGPA': 8.0, 'section': 'A'}\n",
      "None\n",
      "{'name': 'kishore', 'rollnumber': 1307654, 'branch': 'CSE', 'CGPA': 8.0, 'section': 'A'}\n",
      "None\n",
      "{'name': 'kishore', 'rollnumber': 1307654, 'branch': 'ECE', 'CGPA': 8.0, 'section': 'A'}\n"
     ]
    }
   ],
   "source": [
    "print(d2)\n",
    "print(d2.update({'name':'kishore'}))\n",
    "print(d2)\n",
    "print(d2.update({'branch':'ECE'}))\n",
    "print(d2)\n"
   ]
  },
  {
   "cell_type": "markdown",
   "metadata": {},
   "source": [
    "### pop():\n",
    "    - to delete an item from the dictionat using keyname\n",
    "    - dict_name.pop(keyname)"
   ]
  },
  {
   "cell_type": "code",
   "execution_count": 44,
   "metadata": {},
   "outputs": [
    {
     "name": "stdout",
     "output_type": "stream",
     "text": [
      "{'name': 'kishore', 'branch': 'ECE', 'CGPA': 8.0, 'section': 'A'}\n",
      "A\n"
     ]
    }
   ],
   "source": [
    "print(d2)\n",
    "print(d2.pop('section'))\n"
   ]
  },
  {
   "cell_type": "markdown",
   "metadata": {},
   "source": [
    "### popitem():\n",
    "    - to delete the last item from the dictionary\n",
    "    - dict_name.popitem()"
   ]
  },
  {
   "cell_type": "code",
   "execution_count": 55,
   "metadata": {
    "scrolled": true
   },
   "outputs": [
    {
     "name": "stdout",
     "output_type": "stream",
     "text": [
      "{'name': 'kishore', 'branch': 'ECE'}\n",
      "('branch', 'ECE')\n"
     ]
    }
   ],
   "source": [
    "print(d2)\n",
    "print(d2.popitem())"
   ]
  },
  {
   "cell_type": "code",
   "execution_count": 56,
   "metadata": {},
   "outputs": [
    {
     "name": "stdout",
     "output_type": "stream",
     "text": [
      "{'name': 'kishore'}\n"
     ]
    }
   ],
   "source": [
    "print(d2)"
   ]
  },
  {
   "cell_type": "markdown",
   "metadata": {},
   "source": [
    "### fromkeys():\n",
    "    - it returns the new dictionary\n",
    "    - variable_name=dict.fromkeys(sequence,value)"
   ]
  },
  {
   "cell_type": "code",
   "execution_count": 63,
   "metadata": {},
   "outputs": [
    {
     "name": "stdout",
     "output_type": "stream",
     "text": [
      "{1: 'abc', 2: 'green', 3: 'apple'}\n"
     ]
    }
   ],
   "source": [
    "l1=[1,2,3]\n",
    "d3=dict.fromkeys(l1,67)\n",
    "d3[1]=\"abc\"\n",
    "d3[2]=\"green\"\n",
    "d3[3]=\"apple\"\n",
    "print(d3)"
   ]
  },
  {
   "cell_type": "code",
   "execution_count": 69,
   "metadata": {},
   "outputs": [
    {
     "name": "stdout",
     "output_type": "stream",
     "text": [
      "{1: 69, 2: 69, 3: 'green'}\n"
     ]
    }
   ],
   "source": [
    "d3=dict.fromkeys([1,2,3],69)\n",
    "d3[3]=\"green\"\n",
    "print(d3)"
   ]
  },
  {
   "cell_type": "markdown",
   "metadata": {},
   "source": [
    "### clear()\n",
    "    - to clear the data from the dictionary\n",
    "    - dict_name.clear()"
   ]
  },
  {
   "cell_type": "code",
   "execution_count": 73,
   "metadata": {},
   "outputs": [
    {
     "name": "stdout",
     "output_type": "stream",
     "text": [
      "{1: 100, 2: 200, 3: 300}\n",
      "None\n",
      "{1: 69, 2: 69, 3: 'green'}\n"
     ]
    }
   ],
   "source": [
    "print(d1)\n",
    "print(d2.clear())\n",
    "print(d3)"
   ]
  },
  {
   "cell_type": "code",
   "execution_count": 78,
   "metadata": {},
   "outputs": [
    {
     "name": "stdout",
     "output_type": "stream",
     "text": [
      "{'section': 'A'}\n",
      "A\n",
      "{'section': 'A'}\n",
      "red\n",
      "{'section': 'A', 'color': 'red'}\n"
     ]
    }
   ],
   "source": [
    "print(d2)\n",
    "print(d2.setdefault('section','A'))\n",
    "print(d2)\n",
    "print(d2.setdefault('color','red'))\n",
    "print(d2)"
   ]
  },
  {
   "cell_type": "code",
   "execution_count": 80,
   "metadata": {},
   "outputs": [
    {
     "name": "stdout",
     "output_type": "stream",
     "text": [
      "2\n",
      "8\n"
     ]
    }
   ],
   "source": [
    "## examples\n",
    "d4={1:20,2:40,3:30,8:60}\n",
    "# to print the only even keys\n",
    "for i in d4:\n",
    "    if i%2==0:\n",
    "        print(i)\n",
    "    "
   ]
  },
  {
   "cell_type": "code",
   "execution_count": 82,
   "metadata": {},
   "outputs": [
    {
     "name": "stdout",
     "output_type": "stream",
     "text": [
      "enter your key name here6\n",
      "enter your value for that keysrikanya\n",
      "{'6': 'srikanya'}\n"
     ]
    }
   ],
   "source": [
    "## to read the two inputs and store into a dict\n",
    "d1={}\n",
    "key=input(\"enter your key name here\")\n",
    "value=input(\"enter your value for that key\")\n",
    "d1[key]=value\n",
    "print(d1)"
   ]
  },
  {
   "cell_type": "markdown",
   "metadata": {},
   "source": [
    "### to print the length of the string in list\n",
    "### ['srikanya','apssdc','python']--input\n",
    "### {'srikanya':8,'apssdc':6,'python':6}--->output"
   ]
  },
  {
   "cell_type": "code",
   "execution_count": 86,
   "metadata": {},
   "outputs": [
    {
     "name": "stdout",
     "output_type": "stream",
     "text": [
      "{'srikanya': 8}\n",
      "{'srikanya': 8, 'apssdc': 6}\n",
      "{'srikanya': 8, 'apssdc': 6, 'python': 6}\n"
     ]
    }
   ],
   "source": [
    "l=['srikanya','apssdc','python']\n",
    "d={}\n",
    "for i in l:\n",
    "    d[i]=len(i)\n",
    "    print(d)"
   ]
  },
  {
   "cell_type": "markdown",
   "metadata": {},
   "source": [
    "### sets:\n",
    "    - it is a collection of different data types\n",
    "    - it is unordered,unindexed\n",
    "    - it represents with \"{}\"\n",
    "    - it does not allows duplicates\n",
    "    "
   ]
  },
  {
   "cell_type": "code",
   "execution_count": 90,
   "metadata": {},
   "outputs": [
    {
     "name": "stdout",
     "output_type": "stream",
     "text": [
      "{34, 10, 78, 56, 60}\n"
     ]
    },
    {
     "data": {
      "text/plain": [
       "set"
      ]
     },
     "execution_count": 90,
     "metadata": {},
     "output_type": "execute_result"
    }
   ],
   "source": [
    "s={10,60,78,56,34}\n",
    "print(s)\n",
    "type(s)"
   ]
  },
  {
   "cell_type": "code",
   "execution_count": 91,
   "metadata": {},
   "outputs": [
    {
     "name": "stdout",
     "output_type": "stream",
     "text": [
      "['__and__', '__class__', '__contains__', '__delattr__', '__dir__', '__doc__', '__eq__', '__format__', '__ge__', '__getattribute__', '__gt__', '__hash__', '__iand__', '__init__', '__init_subclass__', '__ior__', '__isub__', '__iter__', '__ixor__', '__le__', '__len__', '__lt__', '__ne__', '__new__', '__or__', '__rand__', '__reduce__', '__reduce_ex__', '__repr__', '__ror__', '__rsub__', '__rxor__', '__setattr__', '__sizeof__', '__str__', '__sub__', '__subclasshook__', '__xor__', 'add', 'clear', 'copy', 'difference', 'difference_update', 'discard', 'intersection', 'intersection_update', 'isdisjoint', 'issubset', 'issuperset', 'pop', 'remove', 'symmetric_difference', 'symmetric_difference_update', 'union', 'update']\n"
     ]
    }
   ],
   "source": [
    "print(dir(set))"
   ]
  },
  {
   "cell_type": "markdown",
   "metadata": {},
   "source": [
    "## add():\n",
    "    - we can add the ne element to the set\n",
    "    - set_name.add()"
   ]
  },
  {
   "cell_type": "code",
   "execution_count": 97,
   "metadata": {},
   "outputs": [
    {
     "name": "stdout",
     "output_type": "stream",
     "text": [
      "{34, 10, 45, 78, 56, 90, 60}\n",
      "None\n",
      "{34, 10, 45, 78, 56, 90, 60}\n",
      "None\n",
      "{34, 10, 45, 78, 56, 90, 60}\n"
     ]
    }
   ],
   "source": [
    "print(s)\n",
    "print(s.add(45))\n",
    "print(s)\n",
    "print(s.add(90))\n",
    "print(s)"
   ]
  },
  {
   "cell_type": "code",
   "execution_count": 98,
   "metadata": {},
   "outputs": [
    {
     "name": "stdout",
     "output_type": "stream",
     "text": [
      "{34, 10, 45, 78, 56, 90, 60}\n"
     ]
    }
   ],
   "source": [
    "## update--we can add multiple values\n",
    "print(s)"
   ]
  },
  {
   "cell_type": "code",
   "execution_count": 103,
   "metadata": {},
   "outputs": [
    {
     "name": "stdout",
     "output_type": "stream",
     "text": [
      "{33, 34, 10, 44, 45, 78, 22, 56, 90, 60}\n"
     ]
    }
   ],
   "source": [
    "s.update([22,33,44])\n",
    "print(s)"
   ]
  },
  {
   "cell_type": "code",
   "execution_count": 104,
   "metadata": {},
   "outputs": [
    {
     "name": "stdout",
     "output_type": "stream",
     "text": [
      "{33, 34, 10, 44, 45, 78, 22, 56, 90, 60}\n",
      "{33, 34, 10, 44, 45, 78, 22, 56, 90, 60}\n"
     ]
    }
   ],
   "source": [
    "### copy()\n",
    "print(s)\n",
    "s1=s.copy()\n",
    "print(s1)"
   ]
  },
  {
   "cell_type": "code",
   "execution_count": 112,
   "metadata": {
    "scrolled": false
   },
   "outputs": [
    {
     "name": "stdout",
     "output_type": "stream",
     "text": [
      "{33, 34, 44, 45, 78, 22, 56, 90, 60}\n"
     ]
    }
   ],
   "source": [
    "## remove()\n",
    "print(s1)\n",
    "s1.remove(45)"
   ]
  },
  {
   "cell_type": "code",
   "execution_count": 113,
   "metadata": {},
   "outputs": [
    {
     "name": "stdout",
     "output_type": "stream",
     "text": [
      "{33, 34, 44, 78, 22, 56, 90, 60}\n"
     ]
    }
   ],
   "source": [
    "print(s1)\n"
   ]
  },
  {
   "cell_type": "code",
   "execution_count": 114,
   "metadata": {},
   "outputs": [
    {
     "name": "stdout",
     "output_type": "stream",
     "text": [
      "{33, 34, 44, 78, 22, 56, 90, 60}\n"
     ]
    }
   ],
   "source": [
    "print(s1)"
   ]
  },
  {
   "cell_type": "code",
   "execution_count": 115,
   "metadata": {},
   "outputs": [
    {
     "name": "stdout",
     "output_type": "stream",
     "text": [
      "{33, 34, 44, 78, 22, 56, 60}\n"
     ]
    }
   ],
   "source": [
    "s1.discard(90)\n",
    "print(s1)"
   ]
  },
  {
   "cell_type": "markdown",
   "metadata": {},
   "source": [
    "#### mathematical operations\n",
    "    - union\n",
    "    - intersection\n",
    "    - difference"
   ]
  },
  {
   "cell_type": "code",
   "execution_count": 117,
   "metadata": {},
   "outputs": [
    {
     "name": "stdout",
     "output_type": "stream",
     "text": [
      "{0, 1, 3, 4, 5, 6, 8, 9}\n"
     ]
    }
   ],
   "source": [
    "## union(AUB)\n",
    "A={8,9,0,4,5}\n",
    "B={3,5,8,1,6}\n",
    "print(A.union(B))\n"
   ]
  },
  {
   "cell_type": "code",
   "execution_count": 118,
   "metadata": {},
   "outputs": [
    {
     "name": "stdout",
     "output_type": "stream",
     "text": [
      "{8, 5}\n"
     ]
    }
   ],
   "source": [
    "## insection(A INTERSECTION B)\n",
    "A={8,9,0,4,5}\n",
    "B={3,5,8,1,6}\n",
    "print(A.intersection(B))"
   ]
  },
  {
   "cell_type": "code",
   "execution_count": 119,
   "metadata": {},
   "outputs": [
    {
     "name": "stdout",
     "output_type": "stream",
     "text": [
      "{0, 9, 4}\n"
     ]
    }
   ],
   "source": [
    "## difference(A-B)\n",
    "A={8,9,0,4,5}\n",
    "B={3,5,8,1,6}\n",
    "print(A.difference(B))"
   ]
  },
  {
   "cell_type": "code",
   "execution_count": null,
   "metadata": {},
   "outputs": [],
   "source": []
  }
 ],
 "metadata": {
  "kernelspec": {
   "display_name": "Python 3",
   "language": "python",
   "name": "python3"
  },
  "language_info": {
   "codemirror_mode": {
    "name": "ipython",
    "version": 3
   },
   "file_extension": ".py",
   "mimetype": "text/x-python",
   "name": "python",
   "nbconvert_exporter": "python",
   "pygments_lexer": "ipython3",
   "version": "3.7.3"
  }
 },
 "nbformat": 4,
 "nbformat_minor": 2
}
