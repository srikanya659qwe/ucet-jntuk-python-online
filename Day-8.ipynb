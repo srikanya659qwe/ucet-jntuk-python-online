{
 "cells": [
  {
   "cell_type": "markdown",
   "metadata": {},
   "source": [
    "### Day Objectives:\n",
    "    - Functions in python\n",
    "        - function is a group of statements it can be used to perform specific task.\n",
    "        - in python by using \"def\" keyword we can define our function\n",
    "    - advantages:\n",
    "        - code reusability\n",
    "        - easy debugging\n",
    "        \n",
    "    - syntax:\n",
    "            - def functionname(parameters):--->function definition\n",
    "            \n",
    "            \n",
    "                          ## block of code\n",
    "            \n",
    "              functionname(arguments)---->function calling\n",
    "            \n",
    "            \n",
    "            \n",
    "              "
   ]
  },
  {
   "cell_type": "markdown",
   "metadata": {},
   "source": [
    "#### types of functions:\n",
    "    - with arguments and with return values\n",
    "    - with arguments and without return values\n",
    "    - without arguments and with return values\n",
    "    - without arguments and without return values\n",
    "    "
   ]
  },
  {
   "cell_type": "markdown",
   "metadata": {},
   "source": [
    "### with arguments and with return values\n",
    "###   syntax:\n",
    "        - def function name(parameters list):\n",
    "             # code\n",
    "          function name(arguments list)\n"
   ]
  },
  {
   "cell_type": "code",
   "execution_count": 3,
   "metadata": {},
   "outputs": [
    {
     "name": "stdout",
     "output_type": "stream",
     "text": [
      "enter your first value9\n",
      "enter your second value8\n"
     ]
    },
    {
     "data": {
      "text/plain": [
       "17"
      ]
     },
     "execution_count": 3,
     "metadata": {},
     "output_type": "execute_result"
    }
   ],
   "source": [
    "n1=int(input(\"enter your first value\"))\n",
    "n2=int(input(\"enter your second value\"))\n",
    "def addition(n1,n2):\n",
    "    c=n1+n2\n",
    "    return c\n",
    "addition(n1,n2)"
   ]
  },
  {
   "cell_type": "code",
   "execution_count": 4,
   "metadata": {},
   "outputs": [
    {
     "name": "stdout",
     "output_type": "stream",
     "text": [
      "enter P value8\n",
      "enter Q value9\n",
      "72\n"
     ]
    }
   ],
   "source": [
    "### with arguments and without return values\n",
    "p=int(input(\"enter P value\"))\n",
    "q=int(input(\"enter Q value\"))\n",
    "def multiplication(p,q):\n",
    "    n=p*q\n",
    "    print(n)\n",
    "multiplication(p,q)"
   ]
  },
  {
   "cell_type": "code",
   "execution_count": 6,
   "metadata": {},
   "outputs": [
    {
     "name": "stdout",
     "output_type": "stream",
     "text": [
      "enter first number10\n",
      "enter second number7\n"
     ]
    },
    {
     "data": {
      "text/plain": [
       "3"
      ]
     },
     "execution_count": 6,
     "metadata": {},
     "output_type": "execute_result"
    }
   ],
   "source": [
    "### without arguments and with return values\n",
    "a=int(input(\"enter first number\"))\n",
    "b=int(input(\"enter second number\"))\n",
    "def subtraction():\n",
    "    return a-b\n",
    "subtraction()\n",
    "    "
   ]
  },
  {
   "cell_type": "code",
   "execution_count": 7,
   "metadata": {},
   "outputs": [
    {
     "name": "stdout",
     "output_type": "stream",
     "text": [
      "enter first number2\n",
      "enter second number3\n",
      "8\n"
     ]
    }
   ],
   "source": [
    "### without arguments and without return values\n",
    "a=int(input(\"enter first number\"))\n",
    "b=int(input(\"enter second number\"))\n",
    "def power():\n",
    "    print(a**b)\n",
    "power()\n",
    "    "
   ]
  },
  {
   "cell_type": "code",
   "execution_count": 10,
   "metadata": {},
   "outputs": [
    {
     "name": "stdout",
     "output_type": "stream",
     "text": [
      "Enter your N value here10\n",
      "1 2 3 4 5 6 7 8 9 10 "
     ]
    }
   ],
   "source": [
    "## examples\n",
    "### function print n natural numbers\n",
    "\n",
    "n=int(input(\"Enter your N value here\"))\n",
    "def Natural(n):\n",
    "    for i in range(1,n+1):\n",
    "        print(i,end=\" \")\n",
    "Natural(n)"
   ]
  },
  {
   "cell_type": "code",
   "execution_count": 12,
   "metadata": {},
   "outputs": [
    {
     "name": "stdout",
     "output_type": "stream",
     "text": [
      "1 2 3 4 5 6 7 8 9 10 11 12 13 14 15 16 17 18 19 20 21 22 23 24 25 26 27 28 29 30 31 32 33 34 35 36 37 38 39 40 41 42 43 44 45 46 47 48 49 50 51 52 53 54 55 56 57 58 59 60 61 62 63 64 65 66 67 68 69 70 71 72 73 74 75 76 77 78 79 80 81 82 83 84 85 86 87 88 89 90 91 92 93 94 95 96 97 98 99 100 "
     ]
    }
   ],
   "source": [
    "def Natural(n):\n",
    "    for i in range(1,n+1):\n",
    "        print(i,end=\" \")\n",
    "Natural(100)"
   ]
  },
  {
   "cell_type": "code",
   "execution_count": 14,
   "metadata": {},
   "outputs": [
    {
     "data": {
      "text/plain": [
       "'aynakirs'"
      ]
     },
     "execution_count": 14,
     "metadata": {},
     "output_type": "execute_result"
    }
   ],
   "source": [
    "### function to print reverese of a string\n",
    "def reverse(s):\n",
    "    return s[::-1]\n",
    "    \n",
    "reverse(\"srikanya\")"
   ]
  },
  {
   "cell_type": "markdown",
   "metadata": {},
   "source": [
    "### function to check whether the given string is palindrome or not?\n",
    "#### palindrome:\n",
    "    - a string is said to be palindrome if the reverse of the string is the same as string.\n",
    "        ex: s=\"amma\"\n",
    "            reverse=\"amma\"\n",
    "            if s==reverse:\n",
    "                p\n",
    "            else:\n",
    "                np\n",
    "### examples\n",
    "    - radar\n",
    "    - malayalam\n",
    "    - mom\n",
    "    - dad\n",
    "    - refer\n",
    "    - pop"
   ]
  },
  {
   "cell_type": "code",
   "execution_count": 19,
   "metadata": {},
   "outputs": [
    {
     "name": "stdout",
     "output_type": "stream",
     "text": [
      "Enter your string heremalayalam\n",
      "palindrome\n"
     ]
    }
   ],
   "source": [
    "s=input(\"Enter your string here\")\n",
    "def palindrome(s):\n",
    "    if s==s[::-1]:\n",
    "        print(\"palindrome\")\n",
    "    else:\n",
    "        print(\"not a palindrome\")\n",
    "    \n",
    "palindrome(s)"
   ]
  },
  {
   "cell_type": "code",
   "execution_count": 24,
   "metadata": {},
   "outputs": [
    {
     "name": "stdout",
     "output_type": "stream",
     "text": [
      "Enter your year here2022\n",
      "not a leap year\n"
     ]
    }
   ],
   "source": [
    "### function to check if a given year is leap year or not?\n",
    "y=int(input(\"Enter your year here\"))\n",
    "def leap(y):\n",
    "    if (y%400==0 or (y%4==0 and y%100!=0)):\n",
    "        print(\"Leap year\")\n",
    "    else:\n",
    "        print(\"not a leap year\")\n",
    "leap(y)\n"
   ]
  },
  {
   "cell_type": "code",
   "execution_count": 25,
   "metadata": {},
   "outputs": [
    {
     "data": {
      "text/plain": [
       "89"
      ]
     },
     "execution_count": 25,
     "metadata": {},
     "output_type": "execute_result"
    }
   ],
   "source": [
    "\n",
    "### function to check gretest number  of three numbers\n",
    "def greatest(n1,n2,n3):\n",
    "    if n1>n2 and n1>n3:\n",
    "        return n1\n",
    "    elif n2>n3:\n",
    "        return n2\n",
    "    else:\n",
    "        return n3\n",
    "    \n",
    "greatest(23,89,56)\n"
   ]
  },
  {
   "cell_type": "code",
   "execution_count": 27,
   "metadata": {},
   "outputs": [
    {
     "name": "stdout",
     "output_type": "stream",
     "text": [
      "enter your first number45\n",
      "enter your second number7\n",
      "enter your third number0\n"
     ]
    },
    {
     "data": {
      "text/plain": [
       "45"
      ]
     },
     "execution_count": 27,
     "metadata": {},
     "output_type": "execute_result"
    }
   ],
   "source": [
    "n1=int(input(\"enter your first number\"))\n",
    "n2=int(input(\"enter your second number\"))\n",
    "n3=int(input(\"enter your third number\"))\n",
    "def greatest(n1,n2,n3):\n",
    "    if n1>n2 and n1>n3:\n",
    "        return n1\n",
    "    elif n2>n3:\n",
    "        return n2\n",
    "    else:\n",
    "        return n3\n",
    "    \n",
    "greatest(n1,n2,n3)"
   ]
  },
  {
   "cell_type": "code",
   "execution_count": 28,
   "metadata": {},
   "outputs": [
    {
     "name": "stdout",
     "output_type": "stream",
     "text": [
      "1 3 5 7 9 "
     ]
    }
   ],
   "source": [
    "### function to print odd nos in given range\n",
    "def oddrange(start,end):\n",
    "    for i in range(start,end+1):\n",
    "        if i%2!=0:\n",
    "            print(i,end=\" \")\n",
    "oddrange(1,10)"
   ]
  },
  {
   "cell_type": "code",
   "execution_count": null,
   "metadata": {},
   "outputs": [],
   "source": []
  },
  {
   "cell_type": "code",
   "execution_count": 38,
   "metadata": {},
   "outputs": [
    {
     "name": "stdout",
     "output_type": "stream",
     "text": [
      "155 "
     ]
    }
   ],
   "source": [
    "### function to print sum of number in a range\n",
    "### ex:1,10-->1,2,3,4,5,6,7,8,9,10-->sum=1+2+3+...+10=55\n",
    "\n",
    "def sumof(start,end):\n",
    "    total=0\n",
    "    for i in range(start,end+1):#(1,10+1-->1,11)(1,2,3,4,5,6,7,8...10)\n",
    "        total=total+i           # total=total+i,total=0+1=>1\n",
    "                                #total=1+2=3,total=3+3=6,total=6+4=10,,,,total=45+10=55\n",
    "    print(total,end=\" \")\n",
    "    \n",
    "sumof(11,20)"
   ]
  },
  {
   "cell_type": "code",
   "execution_count": 43,
   "metadata": {},
   "outputs": [
    {
     "name": "stdout",
     "output_type": "stream",
     "text": [
      "15.5\n"
     ]
    }
   ],
   "source": [
    "### function to calculate the average of a given range\n",
    "### 1,10-->total sum/total nos=55/10=5.5\n",
    "def average(start,end):\n",
    "    total=0\n",
    "    c=0\n",
    "    for i in range(start,end+1):\n",
    "        total=total+i #55\n",
    "        c=c+1         #10\n",
    "    print(total/c)\n",
    "    \n",
    "    \n",
    "    \n",
    "average(11,20)"
   ]
  },
  {
   "cell_type": "code",
   "execution_count": 47,
   "metadata": {},
   "outputs": [
    {
     "name": "stdout",
     "output_type": "stream",
     "text": [
      "6 12 18 24 30 36 42 48 54 60 66 72 78 84 90 96 "
     ]
    }
   ],
   "source": [
    "### function to print all numbers divisible by 6 and not divisible by 100\n",
    "def divisible(a,b):\n",
    "    for i in range(a,b+1):\n",
    "        if i%6==0 and i%100!=0:\n",
    "            print(i,end=\" \")\n",
    "        \n",
    "divisible(1,100)"
   ]
  },
  {
   "cell_type": "code",
   "execution_count": 50,
   "metadata": {},
   "outputs": [
    {
     "name": "stdout",
     "output_type": "stream",
     "text": [
      "enter your number8\n",
      "40320\n"
     ]
    }
   ],
   "source": [
    "### function to calculate factorial of a given number\n",
    "n=int(input(\"enter your number\"))\n",
    "def factorial(n):\n",
    "    f=1\n",
    "    for i in range(1,n+1):\n",
    "        f=f*i\n",
    "    print(f)\n",
    "    \n",
    "factorial(n)"
   ]
  },
  {
   "cell_type": "code",
   "execution_count": 58,
   "metadata": {},
   "outputs": [
    {
     "name": "stdout",
     "output_type": "stream",
     "text": [
      "enter your number2\n",
      "prime\n"
     ]
    }
   ],
   "source": [
    "### function to check given number prime or not?\n",
    "n=int(input(\"enter your number\"))\n",
    "def prime(n):\n",
    "    factors=0\n",
    "    for i in range(1,n+1):\n",
    "        if n%i==0:\n",
    "            factors=factors+1\n",
    "    if factors==2:\n",
    "        print(\"prime\")\n",
    "    else:\n",
    "        print(\"not a prime\")\n",
    "prime(n)"
   ]
  },
  {
   "cell_type": "markdown",
   "metadata": {},
   "source": [
    "## function to check given no is perfect no or not?\n",
    "    ex:6-->1,2,3=>1+2+3=6\n",
    "        28--->1,2,4,7,14-->1+2+4+7+14=28"
   ]
  },
  {
   "cell_type": "code",
   "execution_count": 62,
   "metadata": {},
   "outputs": [
    {
     "name": "stdout",
     "output_type": "stream",
     "text": [
      "enter your number28\n",
      "perfect number\n"
     ]
    }
   ],
   "source": [
    "n=int(input(\"enter your number\"))\n",
    "def perfect(n):\n",
    "    s=0\n",
    "    for i in range(1,n):\n",
    "        if n%i==0:\n",
    "            s=s+i\n",
    "    if s==n:\n",
    "        print(\"perfect number\")\n",
    "    else:\n",
    "        print(\"not a perfect number\")\n",
    "    \n",
    "perfect(n)\n"
   ]
  },
  {
   "cell_type": "markdown",
   "metadata": {},
   "source": [
    "### arguments\n",
    "    - variable length arguments\n",
    "    - keyword lenth arguments\n",
    "    - default and non default arguments"
   ]
  },
  {
   "cell_type": "code",
   "execution_count": 69,
   "metadata": {},
   "outputs": [
    {
     "name": "stdout",
     "output_type": "stream",
     "text": [
      "10 (90, 67, 34, 89, 90)\n"
     ]
    }
   ],
   "source": [
    "## variable length arguments-->(*)\n",
    "def sample(a,*b):\n",
    "    print(a,b)\n",
    "sample(10,90,67,34,89,90)"
   ]
  },
  {
   "cell_type": "code",
   "execution_count": 70,
   "metadata": {},
   "outputs": [
    {
     "name": "stdout",
     "output_type": "stream",
     "text": [
      "(78, 89, 90, 56)\n"
     ]
    }
   ],
   "source": [
    "def example(*a):\n",
    "    print(a)\n",
    "example(78,89,90,56)"
   ]
  },
  {
   "cell_type": "code",
   "execution_count": 72,
   "metadata": {},
   "outputs": [
    {
     "name": "stdout",
     "output_type": "stream",
     "text": [
      "{'name': 'srikanya', 'branch': 'cse', 'id': 'n130659'}\n"
     ]
    }
   ],
   "source": [
    "### keyword length arguments(**)\n",
    "def sample(**k):\n",
    "    print(k)\n",
    "sample(name=\"srikanya\",branch=\"cse\",id=\"n130659\")"
   ]
  },
  {
   "cell_type": "code",
   "execution_count": 75,
   "metadata": {},
   "outputs": [
    {
     "name": "stdout",
     "output_type": "stream",
     "text": [
      "45\n",
      "10\n"
     ]
    }
   ],
   "source": [
    "## default and non default\n",
    "def hello(a,b=10):\n",
    "    print(a)\n",
    "    print(b)\n",
    "hello(45)"
   ]
  },
  {
   "cell_type": "code",
   "execution_count": null,
   "metadata": {},
   "outputs": [],
   "source": []
  }
 ],
 "metadata": {
  "kernelspec": {
   "display_name": "Python 3",
   "language": "python",
   "name": "python3"
  },
  "language_info": {
   "codemirror_mode": {
    "name": "ipython",
    "version": 3
   },
   "file_extension": ".py",
   "mimetype": "text/x-python",
   "name": "python",
   "nbconvert_exporter": "python",
   "pygments_lexer": "ipython3",
   "version": "3.7.3"
  }
 },
 "nbformat": 4,
 "nbformat_minor": 2
}
