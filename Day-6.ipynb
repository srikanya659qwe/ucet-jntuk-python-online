{
 "cells": [
  {
   "cell_type": "markdown",
   "metadata": {},
   "source": [
    "### Day objectives:\n",
    "    - Data Stuructures:\n",
    "            - it contains collection of data\n",
    "            -  to store the data, organize the data\n",
    "    - it contains 4 different data structures\n",
    "            - list\n",
    "            - tuple\n",
    "            - dictionary\n",
    "            - set\n",
    "        \n",
    "        "
   ]
  },
  {
   "cell_type": "markdown",
   "metadata": {},
   "source": [
    "### list:\n",
    "    - it is collection of different types of data\n",
    "    - in python list is represented as sqare brackets[]\n",
    "    - in list each and every element is separated with ,\n",
    "    - it is similar to arrays\n",
    "    - in list index position starts from 0\n",
    "    - it is mutable(changeble)"
   ]
  },
  {
   "cell_type": "markdown",
   "metadata": {},
   "source": [
    "### declaration of list\n",
    "    - list_name=[element1,ele2,ele3....elen]"
   ]
  },
  {
   "cell_type": "code",
   "execution_count": 2,
   "metadata": {},
   "outputs": [
    {
     "name": "stdout",
     "output_type": "stream",
     "text": [
      "[10, 20, 'python', 67.9, 89, 'apssdc']\n",
      "<class 'list'>\n"
     ]
    }
   ],
   "source": [
    "L1=[10,20,'python',67.9,89,'apssdc']\n",
    "print(L1)\n",
    "print(type(L1))"
   ]
  },
  {
   "cell_type": "markdown",
   "metadata": {},
   "source": [
    "### aceessing elements from list\n",
    "    - index(we can get only single element at a time)\n",
    "        - it starts from 0 onwards\n",
    "    - slicing(we can access more than one element)\n",
    "        - syntax:\n",
    "            [start range:end range+1:steps]"
   ]
  },
  {
   "cell_type": "code",
   "execution_count": 3,
   "metadata": {},
   "outputs": [
    {
     "name": "stdout",
     "output_type": "stream",
     "text": [
      "[10, 20, 'python', 67.9, 89, 'apssdc']\n"
     ]
    }
   ],
   "source": [
    "### index\n",
    "print(L1)"
   ]
  },
  {
   "cell_type": "code",
   "execution_count": 4,
   "metadata": {},
   "outputs": [
    {
     "data": {
      "text/plain": [
       "10"
      ]
     },
     "execution_count": 4,
     "metadata": {},
     "output_type": "execute_result"
    }
   ],
   "source": [
    "L1[0]"
   ]
  },
  {
   "cell_type": "code",
   "execution_count": 5,
   "metadata": {},
   "outputs": [
    {
     "data": {
      "text/plain": [
       "89"
      ]
     },
     "execution_count": 5,
     "metadata": {},
     "output_type": "execute_result"
    }
   ],
   "source": [
    "L1[4]"
   ]
  },
  {
   "cell_type": "code",
   "execution_count": 6,
   "metadata": {},
   "outputs": [
    {
     "data": {
      "text/plain": [
       "'apssdc'"
      ]
     },
     "execution_count": 6,
     "metadata": {},
     "output_type": "execute_result"
    }
   ],
   "source": [
    "L1[5]"
   ]
  },
  {
   "cell_type": "code",
   "execution_count": 7,
   "metadata": {},
   "outputs": [
    {
     "data": {
      "text/plain": [
       "67.9"
      ]
     },
     "execution_count": 7,
     "metadata": {},
     "output_type": "execute_result"
    }
   ],
   "source": [
    "L1[3]"
   ]
  },
  {
   "cell_type": "code",
   "execution_count": 28,
   "metadata": {
    "scrolled": true
   },
   "outputs": [
    {
     "name": "stdout",
     "output_type": "stream",
     "text": [
      "[10, 20, 'python', 67.9, 89, 'apssdc']\n",
      "[10, 20, 'python', 67.9]\n",
      "[89, 'apssdc']\n",
      "[10, 'python', 89]\n",
      "['apssdc', 89, 67.9, 'python', 20, 10]\n",
      "['apssdc', 67.9, 20]\n",
      "['python', 67.9]\n"
     ]
    }
   ],
   "source": [
    "### slicing\n",
    "print(L1)\n",
    "print(L1[:4])\n",
    "print(L1[4:])\n",
    "print(L1[::2])\n",
    "print(L1[::-1])\n",
    "print(L1[::-2])\n",
    "print(L1[2:4])\n"
   ]
  },
  {
   "cell_type": "code",
   "execution_count": 35,
   "metadata": {},
   "outputs": [
    {
     "name": "stdout",
     "output_type": "stream",
     "text": [
      "['__add__', '__class__', '__contains__', '__delattr__', '__delitem__', '__dir__', '__doc__', '__eq__', '__format__', '__ge__', '__getattribute__', '__getitem__', '__gt__', '__hash__', '__iadd__', '__imul__', '__init__', '__init_subclass__', '__iter__', '__le__', '__len__', '__lt__', '__mul__', '__ne__', '__new__', '__reduce__', '__reduce_ex__', '__repr__', '__reversed__', '__rmul__', '__setattr__', '__setitem__', '__sizeof__', '__str__', '__subclasshook__', 'append', 'clear', 'copy', 'count', 'extend', 'index', 'insert', 'pop', 'remove', 'reverse', 'sort']\n"
     ]
    }
   ],
   "source": [
    "print(dir(list))"
   ]
  },
  {
   "cell_type": "code",
   "execution_count": null,
   "metadata": {},
   "outputs": [],
   "source": [
    "#### list methods:\n",
    "    "
   ]
  },
  {
   "cell_type": "markdown",
   "metadata": {},
   "source": [
    "### append():\n",
    "    - to add the new element to end of the list\n",
    "    - syntax:list_name.append(new_element)"
   ]
  },
  {
   "cell_type": "code",
   "execution_count": 44,
   "metadata": {},
   "outputs": [
    {
     "name": "stdout",
     "output_type": "stream",
     "text": [
      "[10, 30, 20, 40]\n"
     ]
    },
    {
     "data": {
      "text/plain": [
       "[10, 30, 20, 40, 100, 500]"
      ]
     },
     "execution_count": 44,
     "metadata": {},
     "output_type": "execute_result"
    }
   ],
   "source": [
    "L1=[10,30,20,40]\n",
    "print(L1)\n",
    "L1.append(100)\n",
    "L1.append(500)\n",
    "L1\n"
   ]
  },
  {
   "cell_type": "markdown",
   "metadata": {},
   "source": [
    "### insert():\n",
    "    - it is used to insert an element in specific position\n",
    "    - syntax:list_name.insert(position,element)"
   ]
  },
  {
   "cell_type": "code",
   "execution_count": 48,
   "metadata": {},
   "outputs": [
    {
     "name": "stdout",
     "output_type": "stream",
     "text": [
      "[10, 30, 'srikanya', 'srikanya', 'srikanya', 'apssdc', 20, 'apssdc', 40, 100, 500]\n"
     ]
    }
   ],
   "source": [
    "L1\n",
    "L1.insert(2,'srikanya')\n",
    "L1.insert(5,'apssdc')\n",
    "print(L1)"
   ]
  },
  {
   "cell_type": "markdown",
   "metadata": {},
   "source": [
    "### extend():\n",
    "    - to add multiple elements to end of the list\n",
    "    - syntax:list_name.extend([v1,v2...vn])"
   ]
  },
  {
   "cell_type": "code",
   "execution_count": 106,
   "metadata": {},
   "outputs": [
    {
     "name": "stdout",
     "output_type": "stream",
     "text": [
      "['srikanya', 'srikanya', 30]\n"
     ]
    }
   ],
   "source": [
    "print(L1)\n",
    "L1.extend([67,89])\n"
   ]
  },
  {
   "cell_type": "markdown",
   "metadata": {},
   "source": [
    "### count():\n",
    "    - To count the no of occurances\n",
    "    - syntax:list_name.count(element)"
   ]
  },
  {
   "cell_type": "code",
   "execution_count": 58,
   "metadata": {},
   "outputs": [
    {
     "name": "stdout",
     "output_type": "stream",
     "text": [
      "[10, 30, 'srikanya', 'srikanya', 'srikanya', 'apssdc', 20, 'apssdc', 40, 100, 500, 67, 89, 67, 89, 67, 89]\n",
      "3\n",
      "3\n"
     ]
    }
   ],
   "source": [
    "print(L1)\n",
    "print(L1.count('srikanya'))\n",
    "print(L1.count(67))"
   ]
  },
  {
   "cell_type": "markdown",
   "metadata": {},
   "source": [
    "### index():\n",
    "    - it returns the index position of the element\n",
    "    - sytax:list_name.index(element)"
   ]
  },
  {
   "cell_type": "code",
   "execution_count": 61,
   "metadata": {},
   "outputs": [
    {
     "name": "stdout",
     "output_type": "stream",
     "text": [
      "[10, 30, 'srikanya', 'srikanya', 'srikanya', 'apssdc', 20, 'apssdc', 40, 100, 500, 67, 89, 67, 89, 67, 89]\n",
      "2\n",
      "5\n"
     ]
    }
   ],
   "source": [
    "print(L1)\n",
    "print(L1.index('srikanya'))\n",
    "print(L1.index('apssdc'))"
   ]
  },
  {
   "cell_type": "markdown",
   "metadata": {},
   "source": [
    "#### pop():\n",
    "    - to delete an element from the list\n",
    "    - syntax:\n",
    "        list_name.pop()->delete an end of the element from list\n",
    "        list_name.pop(index_position)"
   ]
  },
  {
   "cell_type": "code",
   "execution_count": 71,
   "metadata": {},
   "outputs": [
    {
     "name": "stdout",
     "output_type": "stream",
     "text": [
      "[10, 30, 'srikanya', 'srikanya', 'apssdc', 40]\n",
      "40\n",
      "[10, 30, 'srikanya', 'srikanya', 'apssdc']\n"
     ]
    }
   ],
   "source": [
    "print(L1)\n",
    "print(L1.pop())\n",
    "print(L1)\n"
   ]
  },
  {
   "cell_type": "code",
   "execution_count": 73,
   "metadata": {},
   "outputs": [
    {
     "name": "stdout",
     "output_type": "stream",
     "text": [
      "10\n",
      "[30, 'srikanya', 'srikanya']\n"
     ]
    }
   ],
   "source": [
    "print(L1.pop(0))\n",
    "print(L1)"
   ]
  },
  {
   "cell_type": "markdown",
   "metadata": {},
   "source": [
    "### remove():\n",
    "    - to delete the particular element\n",
    "    - syntax: list_name.remove(element)"
   ]
  },
  {
   "cell_type": "code",
   "execution_count": 74,
   "metadata": {},
   "outputs": [
    {
     "name": "stdout",
     "output_type": "stream",
     "text": [
      "[90, 78, 56, 45, 23]\n"
     ]
    }
   ],
   "source": [
    "L2=[90,78,56,45,23]\n",
    "print(L2)"
   ]
  },
  {
   "cell_type": "code",
   "execution_count": 75,
   "metadata": {},
   "outputs": [],
   "source": [
    "L2.remove(45)"
   ]
  },
  {
   "cell_type": "code",
   "execution_count": 76,
   "metadata": {},
   "outputs": [
    {
     "name": "stdout",
     "output_type": "stream",
     "text": [
      "[90, 78, 56, 23]\n"
     ]
    }
   ],
   "source": [
    "print(L2)"
   ]
  },
  {
   "cell_type": "code",
   "execution_count": 77,
   "metadata": {},
   "outputs": [
    {
     "name": "stdout",
     "output_type": "stream",
     "text": [
      "[78, 56, 23]\n"
     ]
    }
   ],
   "source": [
    "L2.remove(90)\n",
    "print(L2)"
   ]
  },
  {
   "cell_type": "markdown",
   "metadata": {},
   "source": [
    "### reverse():\n",
    "    - to print list in reverse order\n",
    "    - syntax: list_name.reverse()"
   ]
  },
  {
   "cell_type": "code",
   "execution_count": 79,
   "metadata": {},
   "outputs": [
    {
     "name": "stdout",
     "output_type": "stream",
     "text": [
      "[78, 56, 23]\n",
      "[23, 56, 78]\n"
     ]
    }
   ],
   "source": [
    "print(L2)\n",
    "L2.reverse()\n",
    "print(L2)"
   ]
  },
  {
   "cell_type": "code",
   "execution_count": 81,
   "metadata": {},
   "outputs": [
    {
     "name": "stdout",
     "output_type": "stream",
     "text": [
      "[30, 'srikanya', 'srikanya']\n",
      "['srikanya', 'srikanya', 30]\n"
     ]
    }
   ],
   "source": [
    "print(L1)\n",
    "L1.reverse()\n",
    "print(L1)"
   ]
  },
  {
   "cell_type": "markdown",
   "metadata": {},
   "source": [
    "### sort()\n",
    "    - to print list of elements in ascending order or descending order\n",
    "    - syntax:\n",
    "        list_name.sort()-->by default it will take ascending order\n",
    "        list_name.sort(reverse=True)-->descending order\n",
    "        list_name.sort(reverse=False)->ascending order"
   ]
  },
  {
   "cell_type": "code",
   "execution_count": 89,
   "metadata": {},
   "outputs": [
    {
     "name": "stdout",
     "output_type": "stream",
     "text": [
      "[23, 56, 78]\n",
      "[78, 56, 23]\n"
     ]
    }
   ],
   "source": [
    "print(L2)\n",
    "L2.sort(reverse=True)\n",
    "print(L2)\n",
    "\n"
   ]
  },
  {
   "cell_type": "code",
   "execution_count": 88,
   "metadata": {},
   "outputs": [
    {
     "name": "stdout",
     "output_type": "stream",
     "text": [
      "[23, 56, 78]\n"
     ]
    }
   ],
   "source": [
    "L2.sort(reverse=False)\n",
    "print(L2)"
   ]
  },
  {
   "cell_type": "markdown",
   "metadata": {},
   "source": [
    "### copy():\n",
    "    - to copy the list of elements from one list to another list\n",
    "    - syntax:newlist_name=oldlist_name()"
   ]
  },
  {
   "cell_type": "code",
   "execution_count": 91,
   "metadata": {},
   "outputs": [
    {
     "name": "stdout",
     "output_type": "stream",
     "text": [
      "[78, 56, 23]\n",
      "[78, 56, 23]\n"
     ]
    }
   ],
   "source": [
    "print(L2)\n",
    "L3=L2.copy()\n",
    "\n",
    "print(L3)"
   ]
  },
  {
   "cell_type": "code",
   "execution_count": 97,
   "metadata": {},
   "outputs": [
    {
     "name": "stdout",
     "output_type": "stream",
     "text": [
      "['apple', 'banana', 'guva', 'mango']\n",
      "['apple', 'banana', 'guva', 'mango']\n"
     ]
    }
   ],
   "source": [
    "li=['apple','banana','guva','mango']\n",
    "print(li)\n",
    "new_list=[]\n",
    "new_list=li.copy()\n",
    "print(new_list)"
   ]
  },
  {
   "cell_type": "markdown",
   "metadata": {},
   "source": [
    "#### clear():\n",
    "    - to clear the data from the list\n",
    "    - syntax:list_name.clear()"
   ]
  },
  {
   "cell_type": "code",
   "execution_count": 100,
   "metadata": {},
   "outputs": [
    {
     "name": "stdout",
     "output_type": "stream",
     "text": [
      "['srikanya', 'srikanya', 30]\n",
      "[78, 56, 23]\n",
      "[78, 56, 23]\n",
      "['apple', 'banana', 'guva', 'mango']\n",
      "['apple', 'banana', 'guva', 'mango']\n"
     ]
    }
   ],
   "source": [
    "print(L1)\n",
    "print(L2)\n",
    "print(L3)\n",
    "print(li)\n",
    "print(new_list)"
   ]
  },
  {
   "cell_type": "code",
   "execution_count": 101,
   "metadata": {},
   "outputs": [
    {
     "name": "stdout",
     "output_type": "stream",
     "text": [
      "[]\n"
     ]
    }
   ],
   "source": [
    "L2.clear()\n",
    "print(L2)"
   ]
  },
  {
   "cell_type": "code",
   "execution_count": 102,
   "metadata": {},
   "outputs": [
    {
     "data": {
      "text/plain": [
       "[78, 56, 23]"
      ]
     },
     "execution_count": 102,
     "metadata": {},
     "output_type": "execute_result"
    }
   ],
   "source": [
    "L3"
   ]
  },
  {
   "cell_type": "code",
   "execution_count": 103,
   "metadata": {},
   "outputs": [],
   "source": [
    "L3.clear()"
   ]
  },
  {
   "cell_type": "code",
   "execution_count": 104,
   "metadata": {},
   "outputs": [
    {
     "name": "stdout",
     "output_type": "stream",
     "text": [
      "[]\n"
     ]
    }
   ],
   "source": [
    "print(L3)"
   ]
  },
  {
   "cell_type": "code",
   "execution_count": 105,
   "metadata": {},
   "outputs": [
    {
     "name": "stdout",
     "output_type": "stream",
     "text": [
      "[]\n"
     ]
    }
   ],
   "source": [
    "li.clear()\n",
    "print(li)"
   ]
  },
  {
   "cell_type": "code",
   "execution_count": 107,
   "metadata": {},
   "outputs": [
    {
     "name": "stdout",
     "output_type": "stream",
     "text": [
      "[89, 90, 67, 45, 'python']\n"
     ]
    }
   ],
   "source": [
    "li=[89,90,67,45,'python']\n",
    "print(li)"
   ]
  },
  {
   "cell_type": "code",
   "execution_count": 108,
   "metadata": {},
   "outputs": [
    {
     "name": "stdout",
     "output_type": "stream",
     "text": [
      "[89, 90, 67, 45, 'python', 63, 56, 23]\n"
     ]
    }
   ],
   "source": [
    "li.extend([63,56,23])\n",
    "print(li)"
   ]
  },
  {
   "cell_type": "code",
   "execution_count": 113,
   "metadata": {},
   "outputs": [
    {
     "name": "stdout",
     "output_type": "stream",
     "text": [
      "[89, 90, 67, 45, 80, 78, 47]\n",
      "7\n",
      "496\n",
      "45\n",
      "90\n"
     ]
    }
   ],
   "source": [
    "## mathematical operations\n",
    "li=[89,90,67,45,80,78,47]\n",
    "print(li)\n",
    "print(len(li))\n",
    "print(sum(li))\n",
    "print(min(li))\n",
    "print(max(li))"
   ]
  },
  {
   "cell_type": "code",
   "execution_count": null,
   "metadata": {},
   "outputs": [],
   "source": [
    "#### tuple:\n",
    "    - it is a collection of deifferent types of data\n",
    "    - it is a immutable\n",
    "    - it is represented as brackets\"()\""
   ]
  },
  {
   "cell_type": "code",
   "execution_count": 114,
   "metadata": {},
   "outputs": [
    {
     "name": "stdout",
     "output_type": "stream",
     "text": [
      "(10, 78, 90)\n"
     ]
    }
   ],
   "source": [
    "t=(10,78,90)\n",
    "print(t)"
   ]
  },
  {
   "cell_type": "code",
   "execution_count": 115,
   "metadata": {},
   "outputs": [
    {
     "name": "stdout",
     "output_type": "stream",
     "text": [
      "<class 'tuple'>\n"
     ]
    }
   ],
   "source": [
    "print(type(t))"
   ]
  },
  {
   "cell_type": "code",
   "execution_count": 117,
   "metadata": {},
   "outputs": [
    {
     "name": "stdout",
     "output_type": "stream",
     "text": [
      "<class 'int'>\n",
      "<class 'tuple'>\n"
     ]
    }
   ],
   "source": [
    "t1=(67)\n",
    "print(type(t1))\n",
    "t2=(78,90,67,56)\n",
    "print(type(t2))"
   ]
  },
  {
   "cell_type": "code",
   "execution_count": 120,
   "metadata": {},
   "outputs": [
    {
     "name": "stdout",
     "output_type": "stream",
     "text": [
      "(78, 90, 67, 56)\n",
      "90\n",
      "(78, 90, 67)\n"
     ]
    }
   ],
   "source": [
    "print(t2)\n",
    "print(t2[1])\n",
    "print(t2[:3])"
   ]
  },
  {
   "cell_type": "code",
   "execution_count": 121,
   "metadata": {},
   "outputs": [
    {
     "name": "stdout",
     "output_type": "stream",
     "text": [
      "['__add__', '__class__', '__contains__', '__delattr__', '__dir__', '__doc__', '__eq__', '__format__', '__ge__', '__getattribute__', '__getitem__', '__getnewargs__', '__gt__', '__hash__', '__init__', '__init_subclass__', '__iter__', '__le__', '__len__', '__lt__', '__mul__', '__ne__', '__new__', '__reduce__', '__reduce_ex__', '__repr__', '__rmul__', '__setattr__', '__sizeof__', '__str__', '__subclasshook__', 'count', 'index']\n"
     ]
    }
   ],
   "source": [
    "### methods:\n",
    "print(dir(tuple))"
   ]
  },
  {
   "cell_type": "code",
   "execution_count": 122,
   "metadata": {},
   "outputs": [
    {
     "name": "stdout",
     "output_type": "stream",
     "text": [
      "(78, 90, 67, 56)\n"
     ]
    }
   ],
   "source": [
    "print(t2)"
   ]
  },
  {
   "cell_type": "markdown",
   "metadata": {},
   "source": [
    "### count():no of occurances\n",
    "    - syntax:tuple_name.count(element)"
   ]
  },
  {
   "cell_type": "code",
   "execution_count": 123,
   "metadata": {},
   "outputs": [
    {
     "data": {
      "text/plain": [
       "1"
      ]
     },
     "execution_count": 123,
     "metadata": {},
     "output_type": "execute_result"
    }
   ],
   "source": [
    "t2.count(67)"
   ]
  },
  {
   "cell_type": "code",
   "execution_count": 125,
   "metadata": {},
   "outputs": [
    {
     "name": "stdout",
     "output_type": "stream",
     "text": [
      "(90, 90, 67, 45, 23, 87)\n",
      "2\n"
     ]
    }
   ],
   "source": [
    "t3=(90,90,67,45,23,87)\n",
    "print(t3)\n",
    "print(t3.count(90))"
   ]
  },
  {
   "cell_type": "markdown",
   "metadata": {},
   "source": [
    "#### index:it return index position of the element\n",
    "    - syntax:tuple_name.index(element)"
   ]
  },
  {
   "cell_type": "code",
   "execution_count": 128,
   "metadata": {},
   "outputs": [
    {
     "name": "stdout",
     "output_type": "stream",
     "text": [
      "(90, 90, 67, 45, 23, 87)\n",
      "5\n"
     ]
    }
   ],
   "source": [
    "print(t3)\n",
    "print(t3.index(87))"
   ]
  },
  {
   "cell_type": "code",
   "execution_count": null,
   "metadata": {},
   "outputs": [],
   "source": []
  }
 ],
 "metadata": {
  "kernelspec": {
   "display_name": "Python 3",
   "language": "python",
   "name": "python3"
  },
  "language_info": {
   "codemirror_mode": {
    "name": "ipython",
    "version": 3
   },
   "file_extension": ".py",
   "mimetype": "text/x-python",
   "name": "python",
   "nbconvert_exporter": "python",
   "pygments_lexer": "ipython3",
   "version": "3.7.3"
  }
 },
 "nbformat": 4,
 "nbformat_minor": 2
}
