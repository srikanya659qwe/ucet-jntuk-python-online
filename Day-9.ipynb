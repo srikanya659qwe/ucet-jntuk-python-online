{
 "cells": [
  {
   "cell_type": "markdown",
   "metadata": {},
   "source": [
    "#### Day Objectives:\n",
    "    - File handling in python\n",
    "        - file:it is used to store data permanently\n",
    "        - in python file handling contains 3 steps:\n",
    "            - open a file(open())\n",
    "            - apply on any method (or) any operations on file\n",
    "                    - read operation\n",
    "                    - write operation\n",
    "                    - append operation\n",
    "            - close the close (close())\n",
    "    - open():\n",
    "       - by usng open() function we can open the file in python using read mode or\n",
    "       write mode or append mode\n",
    "      - in open() function returns the file object\n",
    "      - open() takes mainly two parameters \n",
    "          -syntax:\n",
    "              open(filename,mode)\n",
    "    - three basic modes in files:\n",
    "            - read mode-->'r'\n",
    "            - write mode--->'w'\n",
    "            - append mode-->'a'\n",
    "    - close():\n",
    "        - it is used to close the file\n",
    "    - with:by using with keyword we can open the file automatically.\n",
    "            - syntax:\n",
    "                with open(filename,mode) as file_variable_name:\n",
    "                "
   ]
  },
  {
   "cell_type": "code",
   "execution_count": 1,
   "metadata": {},
   "outputs": [
    {
     "name": "stdout",
     "output_type": "stream",
     "text": [
      "new text file is created successfully!....\n"
     ]
    }
   ],
   "source": [
    "# how to create the text file through program\n",
    "f1=open('files/data.txt','w')\n",
    "print(\"new text file is created successfully!....\")\n",
    "f1.close()"
   ]
  },
  {
   "cell_type": "code",
   "execution_count": 2,
   "metadata": {},
   "outputs": [
    {
     "name": "stdout",
     "output_type": "stream",
     "text": [
      "data is inserted successfully\n"
     ]
    }
   ],
   "source": [
    "#### how to insert the data into a text file\n",
    "f2=open('files/data.txt','w')\n",
    "f2.write(\"hello guys welcome to python session\")\n",
    "f2.close()\n",
    "print(\"data is inserted successfully\")"
   ]
  },
  {
   "cell_type": "code",
   "execution_count": 3,
   "metadata": {},
   "outputs": [
    {
     "name": "stdout",
     "output_type": "stream",
     "text": [
      "hello guys welcome to python session\n"
     ]
    }
   ],
   "source": [
    "## how to read data from file\n",
    "f2=open('files/data.txt','r')\n",
    "result=f2.read()\n",
    "print(result)\n",
    "f2.close()"
   ]
  },
  {
   "cell_type": "code",
   "execution_count": 6,
   "metadata": {},
   "outputs": [
    {
     "name": "stdout",
     "output_type": "stream",
     "text": [
      "data is inserted successfully\n"
     ]
    }
   ],
   "source": [
    "f2=open('files/data.txt','w')\n",
    "f2.write(\"hello world\\n\")\n",
    "f2.close()\n",
    "print(\"data is inserted successfully\")"
   ]
  },
  {
   "cell_type": "code",
   "execution_count": 7,
   "metadata": {},
   "outputs": [
    {
     "name": "stdout",
     "output_type": "stream",
     "text": [
      "data is inserted successfully\n"
     ]
    }
   ],
   "source": [
    "## append()--->mode\n",
    "f2=open('files/data.txt','a')\n",
    "f2.write(\"python programming\")\n",
    "f2.close()\n",
    "print(\"data is inserted successfully\")"
   ]
  },
  {
   "cell_type": "markdown",
   "metadata": {},
   "source": [
    "### file methods:\n",
    "    - read()\n",
    "    - write()\n",
    "    - read line()\n",
    "    - readlines()\n",
    "    - tell()\n",
    "    - seek()\n",
    "    - split()"
   ]
  },
  {
   "cell_type": "code",
   "execution_count": 9,
   "metadata": {},
   "outputs": [
    {
     "name": "stdout",
     "output_type": "stream",
     "text": [
      "hello world\n",
      "python programming\n"
     ]
    }
   ],
   "source": [
    "## read method()\n",
    "data=open('files/data.txt','r')\n",
    "re=data.read()\n",
    "print(re)\n",
    "data.close()"
   ]
  },
  {
   "cell_type": "code",
   "execution_count": 12,
   "metadata": {},
   "outputs": [
    {
     "name": "stdout",
     "output_type": "stream",
     "text": [
      "hello world\n",
      "python p\n"
     ]
    }
   ],
   "source": [
    "data=open('files/data.txt','r')\n",
    "re=data.read(20)\n",
    "print(re)\n",
    "data.close()"
   ]
  },
  {
   "cell_type": "code",
   "execution_count": 13,
   "metadata": {},
   "outputs": [
    {
     "name": "stdout",
     "output_type": "stream",
     "text": [
      "hello world\n",
      "\n"
     ]
    }
   ],
   "source": [
    "### readline():-->only single line\n",
    "with open('files/data.txt','r') as f:\n",
    "    data=f.readline()\n",
    "    print(data)"
   ]
  },
  {
   "cell_type": "code",
   "execution_count": 14,
   "metadata": {},
   "outputs": [
    {
     "name": "stdout",
     "output_type": "stream",
     "text": [
      "['hello world\\n', 'python programming']\n"
     ]
    }
   ],
   "source": [
    "### readlines():--->output will be displayed list format\n",
    "with open('files/data.txt','r') as f:\n",
    "    data=f.readlines()\n",
    "    print(data)"
   ]
  },
  {
   "cell_type": "code",
   "execution_count": 18,
   "metadata": {},
   "outputs": [
    {
     "name": "stdout",
     "output_type": "stream",
     "text": [
      "0\n"
     ]
    }
   ],
   "source": [
    "## tell()->it returns cursor position\n",
    "with open('files/data.txt','r') as f:\n",
    "    data=f.tell()\n",
    "    print(data)"
   ]
  },
  {
   "cell_type": "code",
   "execution_count": 21,
   "metadata": {},
   "outputs": [
    {
     "name": "stdout",
     "output_type": "stream",
     "text": [
      "10\n",
      "10\n"
     ]
    }
   ],
   "source": [
    "## seek()-to move to the cursor position\n",
    "with open('files/data.txt','r') as f:\n",
    "    data=f.seek(10)\n",
    "    print(data)\n",
    "    print(f.tell())"
   ]
  },
  {
   "cell_type": "code",
   "execution_count": 24,
   "metadata": {},
   "outputs": [
    {
     "name": "stdout",
     "output_type": "stream",
     "text": [
      "['hello', 'world', 'python', 'programming']\n"
     ]
    }
   ],
   "source": [
    "## split()\n",
    "with open('files/data.txt','r') as f:\n",
    "    re=f.read()\n",
    "    data=re.split()\n",
    "    print(data)"
   ]
  },
  {
   "cell_type": "code",
   "execution_count": 25,
   "metadata": {},
   "outputs": [
    {
     "name": "stdout",
     "output_type": "stream",
     "text": [
      "True\n"
     ]
    }
   ],
   "source": [
    "## to check the file is exist or not?package->module->function\n",
    "## package: it is a collection of modules\n",
    "## module: it is a .python file (or) collection of functions\n",
    "## function: it contains block of code (or) collection of statements\n",
    "import os.path\n",
    "f1=os.path.exists('files/data.txt')\n",
    "print(f1)"
   ]
  },
  {
   "cell_type": "code",
   "execution_count": 26,
   "metadata": {},
   "outputs": [
    {
     "name": "stdout",
     "output_type": "stream",
     "text": [
      "False\n"
     ]
    }
   ],
   "source": [
    "import os.path\n",
    "f1=os.path.exists('files/data1.txt')\n",
    "print(f1)"
   ]
  },
  {
   "cell_type": "code",
   "execution_count": null,
   "metadata": {},
   "outputs": [],
   "source": [
    "### to read a file from user and check whether the file is existed if it is existed print \"YES\" \n",
    "### otherwise you have create same file in your system "
   ]
  },
  {
   "cell_type": "code",
   "execution_count": 30,
   "metadata": {},
   "outputs": [
    {
     "name": "stdout",
     "output_type": "stream",
     "text": [
      "Enter your filename here!data.txt\n",
      "YES..the file is existed\n"
     ]
    }
   ],
   "source": [
    "fn=input(\"Enter your filename here!\")  ## sri.txt\n",
    "if os.path.exists('files/fn'):\n",
    "    print(\"YES..the file is existed\")\n",
    "else:\n",
    "    print(\"NO!..create it\")\n",
    "    f2=open('files/fn','w')\n",
    "    print(fn,\"is created successfully!...\")"
   ]
  },
  {
   "cell_type": "markdown",
   "metadata": {},
   "source": [
    "### comprehensions->it compress the code\n",
    "    - list comprehension-->o/p(list format)\n",
    "        - syntax:\n",
    "            list_name=[output_expression forloop if(conditions)]\n",
    "    - dict comprehension-->o/p(dict format)"
   ]
  },
  {
   "cell_type": "code",
   "execution_count": 32,
   "metadata": {},
   "outputs": [
    {
     "name": "stdout",
     "output_type": "stream",
     "text": [
      "[1, 2, 3, 4, 5, 6, 7, 8, 9, 10]\n"
     ]
    }
   ],
   "source": [
    "### to generate first 10 natural numbers by List\n",
    "l=[]\n",
    "for i in range(1,11):\n",
    "    l.append(i)\n",
    "print(l)"
   ]
  },
  {
   "cell_type": "code",
   "execution_count": 33,
   "metadata": {},
   "outputs": [
    {
     "name": "stdout",
     "output_type": "stream",
     "text": [
      "[1, 2, 3, 4, 5, 6, 7, 8, 9, 10]\n"
     ]
    }
   ],
   "source": [
    "## using LC\n",
    "l=[i for i in range(1,11)]\n",
    "print(l)"
   ]
  },
  {
   "cell_type": "code",
   "execution_count": 35,
   "metadata": {},
   "outputs": [
    {
     "name": "stdout",
     "output_type": "stream",
     "text": [
      "[2, 4, 6, 8, 10, 12, 14, 16, 18, 20, 22, 24, 26, 28, 30, 32, 34, 36, 38, 40, 42, 44, 46, 48, 50, 52, 54, 56, 58, 60, 62, 64, 66, 68, 70, 72, 74, 76, 78, 80, 82, 84, 86, 88, 90, 92, 94, 96, 98]\n"
     ]
    }
   ],
   "source": [
    "### even no range using LC\n",
    "l=[i for i in range(1,100) if (i%2==0)]\n",
    "print(l)"
   ]
  },
  {
   "cell_type": "code",
   "execution_count": 36,
   "metadata": {},
   "outputs": [
    {
     "name": "stdout",
     "output_type": "stream",
     "text": [
      "[1, 3, 5, 7, 9, 11, 13, 15, 17, 19, 21, 23, 25, 27, 29, 31, 33, 35, 37, 39, 41, 43, 45, 47, 49, 51, 53, 55, 57, 59, 61, 63, 65, 67, 69, 71, 73, 75, 77, 79, 81, 83, 85, 87, 89, 91, 93, 95, 97, 99]\n"
     ]
    }
   ],
   "source": [
    "l=[i for i in range(1,100) if (i%2!=0)]\n",
    "print(l)"
   ]
  },
  {
   "cell_type": "code",
   "execution_count": 39,
   "metadata": {},
   "outputs": [
    {
     "name": "stdout",
     "output_type": "stream",
     "text": [
      "[2000, 2004, 2008, 2012, 2016, 2020]\n"
     ]
    }
   ],
   "source": [
    "l=[i for i in range(2000,2022) if (i%400==0 or (i%4==0 and i%100!=0))]\n",
    "print(l)"
   ]
  },
  {
   "cell_type": "markdown",
   "metadata": {},
   "source": [
    "### dict comprehension\n",
    "    - syntax:\n",
    "        dict_name={key:value forloop if(conditions)}\n",
    "## to generate the sqareof numbers in b/w 1 to 10 by using DC\n"
   ]
  },
  {
   "cell_type": "code",
   "execution_count": 40,
   "metadata": {},
   "outputs": [
    {
     "name": "stdout",
     "output_type": "stream",
     "text": [
      "{1: 1, 2: 4, 3: 9, 4: 16, 5: 25, 6: 36, 7: 49, 8: 64, 9: 81, 10: 100}\n"
     ]
    }
   ],
   "source": [
    "s={i:i*i for i in range(1,11)}\n",
    "print(s)"
   ]
  },
  {
   "cell_type": "code",
   "execution_count": 43,
   "metadata": {},
   "outputs": [
    {
     "name": "stdout",
     "output_type": "stream",
     "text": [
      "{10: 2, 20: 2, 30: 1, 40: 3, 60: 2, 50: 1}\n"
     ]
    }
   ],
   "source": [
    "#### count the no of occurances\n",
    "l=[10,20,20,30,10,40,60,40,60,40,50]\n",
    "t={i:l.count(i) for i in l}\n",
    "print(t)"
   ]
  },
  {
   "cell_type": "code",
   "execution_count": null,
   "metadata": {},
   "outputs": [],
   "source": []
  }
 ],
 "metadata": {
  "kernelspec": {
   "display_name": "Python 3",
   "language": "python",
   "name": "python3"
  },
  "language_info": {
   "codemirror_mode": {
    "name": "ipython",
    "version": 3
   },
   "file_extension": ".py",
   "mimetype": "text/x-python",
   "name": "python",
   "nbconvert_exporter": "python",
   "pygments_lexer": "ipython3",
   "version": "3.7.3"
  }
 },
 "nbformat": 4,
 "nbformat_minor": 2
}
